{
 "cells": [
  {
   "cell_type": "code",
   "execution_count": 18,
   "id": "7f117a18-7688-46ef-aaaf-c5e92e559efb",
   "metadata": {},
   "outputs": [
    {
     "data": {
      "text/plain": [
       "17"
      ]
     },
     "execution_count": 18,
     "metadata": {},
     "output_type": "execute_result"
    }
   ],
   "source": [
    "# Import required libraries \n",
    "import sqlite3 \n",
    "import pandas as pd \n",
    "  \n",
    "# Connect to SQLite database \n",
    "conn = sqlite3.connect(r'FlightBooking.db') \n",
    "  \n",
    "# # Load CSV data into Pandas DataFrame \n",
    "eval_df = pd.read_csv('evals/policyEvals.csv')\n",
    "# # Write the data to a sqlite table \n",
    "eval_df.to_sql('bookinginfo', conn, if_exists='replace', index=False) "
   ]
  },
  {
   "cell_type": "code",
   "execution_count": 19,
   "id": "c6ecff44-89c2-4473-9d4b-b444d50516e4",
   "metadata": {},
   "outputs": [
    {
     "name": "stdout",
     "output_type": "stream",
     "text": [
      "(0, 'I want to cancel my flight as I am initiating the cancellation myself.', 'I would like to cancel my flight, please.', 'John Doe', 'ABC123', 'XYZ789', 'process_partial_refund', '{\"booking_reference\":\"ABC123\",\"refund_amount\":198.0}', 'refundable', 'partial_refund', None, 198.0)\n",
      "(1, 'I want to change my flight to a different date.', \"I'd like to initiate a change to my flight for a later date.\", 'Jane Smith', 'DEF456', 'XYZ123', 'apply_change_fee', '{\"booking_reference\":\"DEF456\"}', 'nonrefundable', None, None, None)\n",
      "(2, 'I want to request a refund because my flight was canceled by the airline due to weather.', 'My flight was canceled by the airline, and I want a refund.', 'Emma Johnson', 'GHI789', 'ABC123', 'process_full_refund', '{\"booking_reference\":\"GHI789\"}', 'refundable', 'full_refund', None, None)\n",
      "(3, 'I want to cancel my flight but I think it is non-refundable.', 'I want to cancel my non-refundable ticket.', 'Michael Brown', 'JKL012', 'DEF456', 'offer_flight_credit', '{\"booking_reference\":\"JKL012\"}', 'nonrefundable', None, None, None)\n",
      "(4, 'I want to cancel my flight and I believe it is refundable.', 'I want to cancel my refundable ticket.', 'Sarah Brown', 'MNO345', 'STU678', 'process_partial_refund', '{\"booking_reference\":\"MNO345\",\"refund_amount\":65.0}', 'refundable', 'partial_refund', None, 65.0)\n",
      "(5, 'I want to address the issue of missing my connecting flight due to a delay caused by the airline.', 'I missed my connecting flight because of the airline delay.', 'David White', 'PQR678', 'LMN789', 'prioritize_missed_connections', '{\"booking_reference\":\"PQR678\"}', 'nonrefundable', None, None, None)\n",
      "(6, 'I want to know if I can receive compensation due to a long delay on my flight.', 'I want to know if I am eligible for compensation because of a long delay.', 'Jessica Green', 'STU901', 'ABC789', 'check_compensation_eligibility', '{\"booking_reference\":\"STU901\"}', 'nonrefundable', None, None, None)\n",
      "(7, 'I want to rebook my flight, and I have provided my details for verification.', 'I would like to rebook my flight.', 'Lucas Brown', 'VWX234', 'XYZ345', 'process_change_no_fee', '{\"booking_reference\":\"VWX234\",\"new_flight\": \"LMG091\"}', 'flexible', None, None, None)\n",
      "(8, 'I want to cancel my flight due to a medical emergency.', 'I want to cancel my flight because of a medical emergency.', 'Laura Adams', 'YZA567', 'PQR678', 'process_flexible_cancellation', '{\"booking_reference\":\"YZA567\",\"medical_certificate\":\"MC1234\"}', 'flexible', None, 'MC1234', None)\n",
      "(9, 'I want to change the name of one of the passengers in my group booking.', 'I would like to change the passenger name on my group booking.', 'Hannah Lee', 'BCD890', 'QRS123', 'permit_name_change', '{\"booking_reference\":\"BCD890\"}', 'nonrefundable', None, None, None)\n",
      "(10, 'I want to find a hotel because my flight was canceled by the airline.', 'The airline canceled my flight, and I need a hotel for the night.', 'Ryan Walker', 'EFG123', 'XYZ789', 'offer_accommodation', '{\"booking_reference\":\"EFG123\"}', 'refundable', 'full_refund', None, None)\n",
      "(11, \"I want to change my flight because it's within the next week and I hope I can do it without any extra fees.\", 'I need to change my flight within the next 7 days.', 'Lisa Brown', 'GHI123', 'PQR789', 'process_change_no_fee', '{\"booking_reference\":\"GHI123\",\"new_flight\": \"LMG091\"}', 'flexible', None, None, None)\n",
      "(12, 'I want to change my flight date, but I know my ticket is non-flexible which might incur a fee.', 'I want to change my non-flexible flight to a different date.', 'Robert Williams', 'JKL234', 'STU567', 'apply_change_fee', '{\"booking_reference\":\"JKL234\"}', 'nonrefundable', None, None, None)\n",
      "(13, 'I want to get rebooked on a flight since my original flight was canceled due to weather.', 'The airline canceled my flight due to weather. Can I get rebooked?', 'Emma Johnson', 'MNO345', 'XYZ123', 'rebook_without_fee', '{\"booking_reference\":\"MNO345\"}', 'nonrefundable', None, None, None)\n",
      "(14, 'I want to cancel my flight but I think it is non-refundable.', 'I need a refund for my non-refundable flight.', 'David White', 'PQR567', 'XYZ456', 'offer_flight_credit', '{\"booking_reference\":\"PQR567\"}', 'nonrefundable', None, None, None)\n",
      "(15, 'I want to get a refund for a recently booked flight and I have provided the necessary details to verify my booking.', 'I need a refund for a flight I booked a few hours ago.', 'Sarah Green', 'STU678', 'ABC345', 'process_full_refund', '{\"booking_reference\":\"STU678\"}', 'refundable', 'full_refund', None, None)\n",
      "(16, 'I want to get rebooked on another flight because I missed my connecting flight due to a delay.', 'I missed my connecting flight because of a delay. Can I get rebooked?', 'Olivia Harris', 'XYZ901', 'LMN456', 'prioritize_missed_connections', '{\"booking_reference\":\"XYZ901\"}', 'nonrefundable', None, None, None)\n"
     ]
    }
   ],
   "source": [
    "cur = conn.cursor() \n",
    "# Fetch and display result \n",
    "for row in cur.execute('SELECT * FROM bookinginfo'): \n",
    "    print(row) "
   ]
  },
  {
   "cell_type": "code",
   "execution_count": 5,
   "id": "f53804c5-8fbe-4310-9316-193f4c7b0939",
   "metadata": {},
   "outputs": [],
   "source": [
    "columns = conn.execute(f\"PRAGMA table_info('bookinginfo');\").fetchall()"
   ]
  },
  {
   "cell_type": "code",
   "execution_count": 6,
   "id": "a96745d1-1e1e-4384-9660-30269f9e9ab2",
   "metadata": {},
   "outputs": [
    {
     "data": {
      "text/plain": [
       "[(0, 'ID', 'INTEGER', 0, None, 0),\n",
       " (1, 'context', 'TEXT', 0, None, 0),\n",
       " (2, 'request', 'TEXT', 0, None, 0),\n",
       " (3, 'full_name', 'TEXT', 0, None, 0),\n",
       " (4, 'booking_ref', 'TEXT', 0, None, 0),\n",
       " (5, 'flight_no', 'TEXT', 0, None, 0),\n",
       " (6, 'expected_function', 'TEXT', 0, None, 0),\n",
       " (7, 'expected_inputs', 'TEXT', 0, None, 0),\n",
       " (8, 'ticket_type', 'TEXT', 0, None, 0),\n",
       " (9, 'fare_rules', 'TEXT', 0, None, 0),\n",
       " (10, 'medical_certificate', 'TEXT', 0, None, 0),\n",
       " (11, 'refund_amount', 'REAL', 0, None, 0)]"
      ]
     },
     "execution_count": 6,
     "metadata": {},
     "output_type": "execute_result"
    }
   ],
   "source": [
    "columns"
   ]
  },
  {
   "cell_type": "code",
   "execution_count": 9,
   "id": "8a795b2d-b380-403d-9a53-182c16763bb1",
   "metadata": {},
   "outputs": [],
   "source": [
    "tables = conn.execute(\"SELECT name FROM sqlite_master WHERE type='table';\").fetchall()"
   ]
  },
  {
   "cell_type": "code",
   "execution_count": 13,
   "id": "cd020fd5-3616-4baf-9b18-7d3e463eefa5",
   "metadata": {},
   "outputs": [],
   "source": [
    "def get_table_names(conn):\n",
    "    \"\"\"Return a list of table names.\"\"\"\n",
    "    table_names = []\n",
    "    tables = conn.execute(\"SELECT name FROM sqlite_master WHERE type='table';\")\n",
    "    for table in tables.fetchall():\n",
    "        table_names.append(table[0])\n",
    "    return table_names\n",
    "\n",
    "def get_column_names(conn, table_name):\n",
    "    \"\"\"Return a list of column names.\"\"\"\n",
    "    column_names = []\n",
    "    columns = conn.execute(f\"PRAGMA table_info('{table_name}');\").fetchall()\n",
    "    for col in columns:\n",
    "        column_names.append(col[1])\n",
    "    return column_names\n",
    "\n",
    "def get_database_info(conn):\n",
    "    \"\"\"Return a list of dicts containing the table name and columns for each table in the database.\"\"\"\n",
    "    table_dicts = []\n",
    "    for table_name in get_table_names(conn):\n",
    "        columns_names = get_column_names(conn, table_name)\n",
    "        table_dicts.append({\"table_name\": table_name, \"column_names\": columns_names})\n",
    "    return table_dicts"
   ]
  },
  {
   "cell_type": "code",
   "execution_count": 15,
   "id": "d9075992-9afa-4aea-a57e-99ede1dd8f73",
   "metadata": {},
   "outputs": [],
   "source": [
    "database_schema_dict = get_database_info(conn)\n",
    "database_schema_string = \"\\n\".join(\n",
    "    [\n",
    "        f\"Table: {table['table_name']}\\nColumns: {', '.join(table['column_names'])}\"\n",
    "        for table in database_schema_dict\n",
    "    ]\n",
    ")"
   ]
  },
  {
   "cell_type": "code",
   "execution_count": 16,
   "id": "3a19b198-c71a-41e6-8ed5-b33f1afb0b83",
   "metadata": {},
   "outputs": [
    {
     "data": {
      "text/plain": [
       "'Table: bookinginfo\\nColumns: ID, context, request, full_name, booking_ref, flight_no, expected_function, expected_inputs, ticket_type, fare_rules, medical_certificate, refund_amount'"
      ]
     },
     "execution_count": 16,
     "metadata": {},
     "output_type": "execute_result"
    }
   ],
   "source": [
    "database_schema_string"
   ]
  },
  {
   "cell_type": "code",
   "execution_count": 17,
   "id": "66582d7f-1df9-4817-b0ff-8c185cdd90d6",
   "metadata": {},
   "outputs": [],
   "source": [
    "conn.close()"
   ]
  },
  {
   "cell_type": "code",
   "execution_count": null,
   "id": "f752e741-a157-4273-a38a-201551869d78",
   "metadata": {},
   "outputs": [],
   "source": []
  }
 ],
 "metadata": {
  "kernelspec": {
   "display_name": "Python 3 (ipykernel)",
   "language": "python",
   "name": "python3"
  },
  "language_info": {
   "codemirror_mode": {
    "name": "ipython",
    "version": 3
   },
   "file_extension": ".py",
   "mimetype": "text/x-python",
   "name": "python",
   "nbconvert_exporter": "python",
   "pygments_lexer": "ipython3",
   "version": "3.10.14"
  }
 },
 "nbformat": 4,
 "nbformat_minor": 5
}
